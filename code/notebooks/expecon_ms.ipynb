{
 "cells": [
  {
   "cell_type": "markdown",
   "id": "41bea27a-d056-440b-b0ac-77393b47c418",
   "metadata": {},
   "source": [
    "# Exploration of `ExPeCoN`\n",
    "\n",
    "Running analyses and simulations of `ExPeCoN`\n",
    "\n",
    "___\n",
    "\n",
    "    Author:  Carina Forster et al.\n",
    "    Contact: forster@cbs.mpg.de\n",
    "    Years:   2023\n",
    "\n",
    "___"
   ]
  },
  {
   "cell_type": "markdown",
   "id": "150a1546-d4d0-4e6c-97f0-32c5f16ab141",
   "metadata": {},
   "source": [
    "## Setup "
   ]
  },
  {
   "cell_type": "code",
   "execution_count": null,
   "id": "50e066cf-10a7-4b45-a200-18e045898290",
   "metadata": {
    "scrolled": true
   },
   "outputs": [],
   "source": [
    "# Import my expecon_ms package and other modules\n",
    "from pathlib import Path\n",
    "\n",
    "import numpy as np\n",
    "\n",
    "from expecon_ms.configs import config, params, path_to\n",
    "\n",
    "# Note that the jupyter kernel must be set to your (conda) environment in order to import your package"
   ]
  },
  {
   "cell_type": "code",
   "execution_count": null,
   "id": "3867641f-84b1-4557-9264-a6858fe08e63",
   "metadata": {},
   "outputs": [],
   "source": [
    "# Set global vars & paths\n",
    "pass"
   ]
  },
  {
   "cell_type": "markdown",
   "id": "74e1579d-4481-4ee5-9b9f-8ed9d5871cfa",
   "metadata": {},
   "source": [
    "## Analyse "
   ]
  },
  {
   "cell_type": "code",
   "execution_count": null,
   "id": "2d686dec-24e9-4d4b-9820-853e883f319b",
   "metadata": {},
   "outputs": [],
   "source": [
    "# Temporary dummy code\n",
    "print(\"Current WD:\", Path.cwd())\n",
    "\n",
    "print(\"array:\", np.array([1, 2, 3]))\n",
    "\n",
    "print(f\"{path_to.data.CACHE}/{params.weight_decay}/\")"
   ]
  },
  {
   "cell_type": "markdown",
   "id": "b0d45af0",
   "metadata": {},
   "source": [
    "### Intermediate summary\n",
    "This is a intermediate summary of the analysis.\n",
    "We find this and that ..."
   ]
  }
 ],
 "metadata": {
  "kernelspec": {
   "display_name": "expecon_3.9",
   "language": "python",
   "name": "expecon_3.9"
  },
  "language_info": {
   "codemirror_mode": {
    "name": "ipython",
    "version": 3
   },
   "file_extension": ".py",
   "mimetype": "text/x-python",
   "name": "python",
   "nbconvert_exporter": "python",
   "pygments_lexer": "ipython3",
   "version": "3.9.18"
  }
 },
 "nbformat": 4,
 "nbformat_minor": 5
}
