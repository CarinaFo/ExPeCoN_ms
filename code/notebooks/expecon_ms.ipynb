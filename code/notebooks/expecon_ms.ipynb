{
 "cells": [
  {
   "cell_type": "markdown",
   "id": "41bea27a-d056-440b-b0ac-77393b47c418",
   "metadata": {},
   "source": [
    "# Exploration of `ExPeCoN`\n",
    "\n",
    "Running analyses for `ExPeCoN`\n",
    "\n",
    "results are published in Forster et al., 2024 (hopefully)\n",
    "___\n",
    "\n",
    "    Author:  Carina Forster et al.\n",
    "    Contact: forster@cbs.mpg.de\n",
    "    Years:   2023\n",
    "\n",
    "___"
   ]
  },
  {
   "cell_type": "markdown",
   "id": "64fbe856",
   "metadata": {},
   "source": [
    "Make sure you are in the right environment: expecon_3.9\n",
    "We use nbstripout for seamless [version control](https://towardsdatascience.com/enhancing-data-science-workflows-mastering-version-control-for-jupyter-notebooks-b03c839e25ec) of jupyter notebooks:\n",
    "\n",
    "nbstripout integrates with Git hooks to automatically strip output cells fromnotebooks when they are committed. \n",
    "It modifies the notebook’s JSON content,removing the output fields, thus reducing the file size and simplifying diffs."
   ]
  },
  {
   "cell_type": "markdown",
   "id": "150a1546-d4d0-4e6c-97f0-32c5f16ab141",
   "metadata": {},
   "source": [
    "## Setup "
   ]
  },
  {
   "cell_type": "code",
   "execution_count": null,
   "id": "15af94e1",
   "metadata": {},
   "outputs": [],
   "source": [
    "# turn off warnings for a cleaner output\n",
    "import warnings\n",
    "\n",
    "warnings.filterwarnings('ignore')"
   ]
  },
  {
   "cell_type": "code",
   "execution_count": null,
   "id": "b7906a86",
   "metadata": {},
   "outputs": [],
   "source": [
    "%matplotlib inline  "
   ]
  },
  {
   "cell_type": "code",
   "execution_count": null,
   "id": "6dc9b0b0",
   "metadata": {},
   "outputs": [],
   "source": [
    "# import packages\n",
    "import mne\n",
    "import pandas as pd\n",
    "import numpy as np\n",
    "from pathlib import Path\n",
    "import random\n",
    "import matplotlib.pyplot as plt\n",
    "\n",
    "# expecon_ms functions\n",
    "from expecon_ms.configs import config, path_to\n",
    "\n",
    "# import functions for behavioral analysis\n",
    "from expecon_ms.behav import figure1 as behav\n",
    "\n",
    "# Import functions from expecon_package for preproccesing eeg data\n",
    "from expecon_ms.eeg.preprocessing import prepro as pp\n",
    "from expecon_ms.eeg.preprocessing import ica\n",
    "\n",
    "# import functions for EEG analysis and visualization\n",
    "from expecon_ms.eeg.sensor import evokeds as evo\n",
    "from expecon_ms.eeg.sensor import tfr_contrasts as tfr\n",
    "from expecon_ms.eeg.sensor import tfr_trial\n",
    "\n",
    "# import functions for source analysis\n",
    "from expecon_ms.eeg.source import source_reco"
   ]
  },
  {
   "cell_type": "code",
   "execution_count": null,
   "id": "8807c481",
   "metadata": {},
   "outputs": [],
   "source": [
    "# Define the output for mne functions\n",
    "import mne\n",
    "\n",
    "mne.set_log_level('CRITICAL')"
   ]
  },
  {
   "cell_type": "code",
   "execution_count": null,
   "id": "2ceb2283",
   "metadata": {},
   "outputs": [],
   "source": [
    "# Set global vars & paths (unused at the moment)\n",
    "\n",
    "# this doesn't work for some reason\n",
    "# the variables set here are not recognized in the functions\n",
    "\n",
    "# raw concatenated eeg data\n",
    "save_dir_concatenated_raw1 = Path(path_to.data.eeg.RAW_expecon1)\n",
    "save_dir_concatenated_raw2 = Path(path_to.data.eeg.RAW_expecon2)\n",
    "save_dir_concatenated_raw1.mkdir(parents=True, exist_ok=True)\n",
    "save_dir_concatenated_raw2.mkdir(parents=True, exist_ok=True)\n",
    "\n",
    "# stimulus locked\n",
    "save_dir_stim_1 = Path(path_to.data.eeg.preprocessed.stimulus_expecon1)\n",
    "save_dir_stim_2 = Path(path_to.data.eeg.preprocessed.stimulus_expecon2)\n",
    "save_dir_stim_1.mkdir(parents=True, exist_ok=True)\n",
    "save_dir_stim_2.mkdir(parents=True, exist_ok=True)\n",
    "\n",
    "# cue locked\n",
    "save_dir_cue_1 = Path(path_to.data.eeg.preprocessed.cue_expecon1)\n",
    "save_dir_cue_2 = Path(path_to.data.eeg.preprocessed.cue_expecon2)\n",
    "save_dir_cue_1.mkdir(parents=True, exist_ok=True)\n",
    "save_dir_cue_2.mkdir(parents=True, exist_ok=True)\n",
    "\n",
    "# directory that contains the cleaned epochs\n",
    "dir_clean_epochs_expecon1 = Path(path_to.data.eeg.preprocessed.ica.clean_epochs_expecon1)\n",
    "dir_clean_epochs_expecon2 = Path(path_to.data.eeg.preprocessed.ica.clean_epochs_expecon2)\n",
    "\n",
    "# EEG cap layout file\n",
    "filename_montage = Path(path_to.data.templates)\n",
    "filename_montage.mkdir(parents=True, exist_ok=True)\n",
    "\n",
    "# raw behavioral data\n",
    "behav_path = Path(path_to.data.behavior)\n",
    "behav_path.mkdir(parents=True, exist_ok=True)\n",
    "\n",
    "# participant IDs\n",
    "id_list_expecon1 = config.participants.ID_list_expecon1\n",
    "id_list_expecon2 = config.participants.ID_list_expecon2\n",
    "\n",
    "# pilot data counter (for expecon 1, participant ID starts with ID007)\n",
    "pilot_counter = config.participants.pilot_counter\n",
    "\n",
    "# data_cleaning parameters defined in config.toml\n",
    "rt_max = config.behavioral_cleaning.rt_max\n",
    "rt_min = config.behavioral_cleaning.rt_min\n",
    "hitrate_max = config.behavioral_cleaning.hitrate_max\n",
    "hitrate_min = config.behavioral_cleaning.hitrate_min\n",
    "farate_max = config.behavioral_cleaning.farate_max\n",
    "hit_fa_diff = config.behavioral_cleaning.hit_fa_diff"
   ]
  },
  {
   "cell_type": "markdown",
   "id": "74e1579d-4481-4ee5-9b9f-8ed9d5871cfa",
   "metadata": {},
   "source": [
    "## Analyse "
   ]
  },
  {
   "cell_type": "markdown",
   "id": "786a2789",
   "metadata": {},
   "source": [
    "1. Behavioral data analysis (Signal detection theory based)"
   ]
  },
  {
   "cell_type": "code",
   "execution_count": null,
   "id": "b310c323",
   "metadata": {},
   "outputs": [],
   "source": [
    "# check the function arguments the docs\n",
    "help(behav.plot_figure1_grid)"
   ]
  },
  {
   "cell_type": "code",
   "execution_count": null,
   "id": "48fccbef",
   "metadata": {},
   "outputs": [],
   "source": [
    "behav.plot_figure1_grid(expecon=1, exclude_high_fa=True)"
   ]
  },
  {
   "cell_type": "markdown",
   "id": "71dec5cc",
   "metadata": {},
   "source": [
    "2. Preprocessing EEG data"
   ]
  },
  {
   "cell_type": "code",
   "execution_count": null,
   "id": "2d686dec-24e9-4d4b-9820-853e883f319b",
   "metadata": {},
   "outputs": [],
   "source": [
    "# function expects a raw object with .fif file ending\n",
    "pp.prepro(study=2, trigger='stimulus', l_freq=1, h_freq=40, tmin=-1,\n",
    "        tmax=1, resample_rate=250,\n",
    "        sf=2500, detrend=1, ransac=1, autoreject=0)\n",
    "\n",
    "# how many channels were interpolated?\n",
    "pp.n_channels_interpolated(study=2, trigger='stimulus', l_freq=0.1)\n",
    "\n",
    "# run ica on clean, epoched data\n",
    "ica.run_ica(study=2, infomax=1, save_psd=1)\n",
    "# correlate with EOG and ECG and mark bad componets for rejection\n",
    "\n",
    "ica.label_ica_correlation(study=2)\n",
    "\n",
    "# usa icalabel to mark components for rejection\n",
    "#ica.label_iclabel(study=1)"
   ]
  },
  {
   "cell_type": "markdown",
   "id": "75804a8a",
   "metadata": {},
   "source": [
    "ICA stats"
   ]
  },
  {
   "cell_type": "code",
   "execution_count": null,
   "id": "53a0f28c",
   "metadata": {},
   "outputs": [],
   "source": [
    "# which study to run the analysis on\n",
    "study = 2"
   ]
  },
  {
   "cell_type": "code",
   "execution_count": null,
   "id": "ff5b7f3a",
   "metadata": {},
   "outputs": [],
   "source": [
    "# load the csv file that contains the number of components rejected\n",
    "df = pd.read_csv(f\"E:\\expecon_ms\\data\\eeg\\prepro_ica\\clean_epochs_corr{str(study)}\\ica_components_stats_icacorr.csv\")\n",
    "\n",
    "# mean components rejected\n",
    "print(f' on average {df[\"0\"].mean()} components were rejected')\n",
    "print(f' the sdt of components rejected is {df[\"0\"].std()}')\n",
    "print(f' the maximum of components rejected is {df[\"0\"].max()}')\n",
    "print(f' the minimum of components rejected is {df[\"0\"].min()}')"
   ]
  },
  {
   "cell_type": "markdown",
   "id": "12612fd5",
   "metadata": {},
   "source": [
    "2. Evoked potentials"
   ]
  },
  {
   "cell_type": "code",
   "execution_count": null,
   "id": "766f3db9",
   "metadata": {},
   "outputs": [],
   "source": [
    "# compare evokeds and plot contrasts\n",
    "evokeds = evo.create_contrast(study=2, drop_bads=True, laplace=False,\n",
    "                              subtract_evoked=False, save_data_to_disk=False,\n",
    "                              save_drop_log=False)"
   ]
  },
  {
   "cell_type": "code",
   "execution_count": null,
   "id": "a26895e6",
   "metadata": {},
   "outputs": [],
   "source": [
    "# plot evoked contrast and topography for the contrast\n",
    "evo.plot_roi(study=2, data=evokeds, tmin=-0.1, tmax=0.3, tmin_base=-0.1, tmax_base=0)"
   ]
  },
  {
   "cell_type": "markdown",
   "id": "50ff70bf",
   "metadata": {},
   "source": [
    "3. Time-frequency analysis"
   ]
  },
  {
   "cell_type": "code",
   "execution_count": null,
   "id": "7469c914",
   "metadata": {},
   "outputs": [],
   "source": [
    "# compute tfr representations for each condition\n",
    "tfr.compute_tfr(study=2, cond='prev_resp', tmin=-0.4, tmax=0, fmax=35,\n",
    " fmin=3, laplace=False, induced=False, mirror=True, drop_bads=True)"
   ]
  },
  {
   "cell_type": "markdown",
   "id": "2356801e",
   "metadata": {},
   "source": [
    "stimulus probability contrast"
   ]
  },
  {
   "cell_type": "code",
   "execution_count": null,
   "id": "6abca9ab",
   "metadata": {},
   "outputs": [],
   "source": [
    "# load the tfr data for each condition for probability conds.\n",
    "tfr_a_cond, tfr_b_cond = tfr.load_tfr_conds(studies=[1, 2], cond='probability',\n",
    "                                            cond_a_name='high_mirror',\n",
    "                                            cond_b_name='low_mirror',\n",
    "                                            cond_a_names=['high_prevhit_mirror',\n",
    "                                                          'high_prevmiss_mirror',\n",
    "                                                          'high_prevcr_mirror'],\n",
    "                                            cond_b_names=['low_prevhit_mirror',\n",
    "                                                          'low_prevmiss_mirror',\n",
    "                                                          'low_prevcr_mirror'])"
   ]
  },
  {
   "cell_type": "markdown",
   "id": "192b1828",
   "metadata": {},
   "source": [
    "Qualitative checks for TFR (no stats yet)"
   ]
  },
  {
   "cell_type": "code",
   "execution_count": null,
   "id": "968e4e8f",
   "metadata": {},
   "outputs": [],
   "source": [
    "# plot grand average per condition (no differences, Gabriel Curios comments, numbtouch symposium)\n",
    "\n",
    "# study 1\n",
    "high_study1 = np.array(tfr_a_cond[0])\n",
    "low_study1 = np.array(tfr_b_cond[0])\n",
    "\n",
    "# study 2\n",
    "high_study2 = np.array(tfr_a_cond[1])\n",
    "low_study2 = np.array(tfr_b_cond[1])\n",
    "\n",
    "# study 1: prevhits\n",
    "prevhit_highstudy1 = high_study1[:,0]\n",
    "prevhit_lowstudy1 = low_study1[:,0]\n",
    "\n",
    "# grand average over participants\n",
    "# study 1\n",
    "prevhit_highstudy1gra = mne.grand_average([h for h in prevhit_highstudy1])\n",
    "prevhit_lowstudy1gra = mne.grand_average([l for l in prevhit_lowstudy1])\n",
    "\n",
    "high_study2gra = mne.grand_average([h for h in high_study2])\n",
    "low_study2gra = mne.grand_average([l for l in low_study2])\n",
    "\n",
    "# plot grand average\n",
    "# study 1\n",
    "diff = mne.combine_evoked([prevhit_highstudy1gra, prevhit_lowstudy1gra], weights=[1, -1])\n",
    "diff.copy().crop(-0.4, 0).apply_baseline((-0.4,0), mode='zscore').plot(picks=['CP4'])\n",
    "\n",
    "diff = mne.combine_evoked([high_study2gra, low_study2gra], weights=[1, -1])\n",
    "diff.copy().crop(-0.4, 0).apply_baseline((-0.4,0), mode='zscore').plot(picks=['CP4'])"
   ]
  },
  {
   "cell_type": "code",
   "execution_count": null,
   "id": "360b5c0e",
   "metadata": {},
   "outputs": [],
   "source": [
    "study = 1 # expecon 2, single trial cues\n",
    "\n",
    "# pick 10 random participants\n",
    "random_ids = random.sample(range(0, len(tfr_a_cond[1])), 5)\n",
    "\n",
    "# create figure with 3 rows and 5 columns\n",
    "fig, axs = plt.subplots(3, 5, figsize=(15, 10))\n",
    "\n",
    "# now fill the figure with the plots\n",
    "for i, id in enumerate(random_ids):\n",
    "    # plot tfr for each condition\n",
    "    tfr_a_cond[study][id].copy().crop(-0.4, 0).plot(picks=['CP4'], axes=axs[0, i], show=False)\n",
    "    tfr_b_cond[study][id].crop(-0.4, 0).plot(picks=['CP4'], axes=axs[1, i], show=False)\n",
    "\n",
    "    diff = tfr_a_cond[study][id].copy().crop(-0.4, 0) - tfr_b_cond[study][id].crop(-0.4, 0)\n",
    "    diff.plot(picks=['CP4'], axes=axs[2, i], show=False)\n",
    "    # get rid of y label for every plot expcept the first one on the left\n",
    "    axs[0, i].set_ylabel('')\n",
    "    axs[1, i].set_ylabel('')\n",
    "    axs[2, i].set_ylabel('')\n",
    "    # also remove x axis for each row except the last row\n",
    "    axs[0, i].set_xlabel('')\n",
    "    axs[1, i].set_xlabel('')\n",
    "    axs[2, i].set_xlabel('')\n",
    "    # set title for each plot\n",
    "    axs[0, i].set_title(f'ID {id}')"
   ]
  },
  {
   "cell_type": "code",
   "execution_count": null,
   "id": "1bf4b017",
   "metadata": {},
   "outputs": [],
   "source": [
    "study = 0 # mini block design, study 1\n",
    "conds = [0, 1, 2]  # prev hit, prev miss, prev cr\n",
    "\n",
    "# pick 10 random participants\n",
    "random_ids = random.sample(range(0, len(tfr_a_cond[0])), 5)\n",
    "\n",
    "for c in conds:\n",
    "    # create figure with 3 rows and 5 columns\n",
    "    fig, axs = plt.subplots(3, 5, figsize=(15, 10))\n",
    "    # now fill the figure with the plots\n",
    "    for i, id in enumerate(random_ids):\n",
    "        # plot tfr for each condition\n",
    "        tfr_a_cond[study][id][c].copy().crop(-0.4, 0).plot(picks=['CP4'], axes=axs[0, i], show=False)\n",
    "        tfr_b_cond[study][id][c].crop(-0.4, 0).plot(picks=['CP4'], axes=axs[1, i], show=False)\n",
    "\n",
    "        diff = tfr_a_cond[study][id][c].copy().crop(-0.4, 0) - tfr_b_cond[study][id][c].crop(-0.4, 0)\n",
    "        diff.plot(picks=['CP4'], axes=axs[2, i], show=False)\n",
    "        # get rid of y label for every plot expcept the first one on the left\n",
    "        axs[0, i].set_ylabel('')\n",
    "        axs[1, i].set_ylabel('')\n",
    "        axs[2, i].set_ylabel('')\n",
    "        # also remove x axis for each row except the last row\n",
    "        axs[0, i].set_xlabel('')\n",
    "        axs[1, i].set_xlabel('')\n",
    "        axs[2, i].set_xlabel('')\n",
    "        # set title for each plot\n",
    "        axs[0, i].set_title(f'ID {id}')"
   ]
  },
  {
   "cell_type": "code",
   "execution_count": null,
   "id": "010e075c",
   "metadata": {},
   "outputs": [],
   "source": [
    "# run cluster based permutation tests for the conditions contrasts\n",
    "# and plot sign. cluster\n",
    "tfr.plot_tfr_cluster_test_output(cond='probability', tfr_a_cond=tfr_a_cond, tfr_b_cond=tfr_b_cond,\n",
    "threed_test=False, cond_a_name='high', cond_b_name='low', channel_names=['CP4'])"
   ]
  },
  {
   "cell_type": "markdown",
   "id": "e3dddc43",
   "metadata": {},
   "source": [
    "previous response contrast"
   ]
  },
  {
   "cell_type": "code",
   "execution_count": null,
   "id": "6506ee98",
   "metadata": {},
   "outputs": [],
   "source": [
    "# load the tfr data for each condition for prev_resp conds.\n",
    "tfr_a_cond, tfr_b_cond = tfr.load_tfr_conds(studies=[1, 2], cond='prev_resp',\n",
    "                                            cond_a_name='prevyesresp_highprob_stim_mirror',\n",
    "                                            cond_b_name='prevnoresp_highprob_stim_mirror',\n",
    "                                            cond_a_names=None, cond_b_names=None)"
   ]
  },
  {
   "cell_type": "code",
   "execution_count": null,
   "id": "a0fbef59",
   "metadata": {},
   "outputs": [],
   "source": [
    "# run cluster based permutation tests for the conditions contrasts\n",
    "# and plot sign. cluster\n",
    "tfr.plot_tfr_cluster_test_output(cond='prev_resp', tfr_a_cond=tfr_a_cond, tfr_b_cond=tfr_b_cond,\n",
    "                                 threed_test=False, cond_a_name='prevyesresp',\n",
    "                                 cond_b_name='prevnoresp', channel_names=['CP4'])"
   ]
  },
  {
   "cell_type": "code",
   "execution_count": null,
   "id": "569db653",
   "metadata": {},
   "outputs": [],
   "source": [
    "# add alpha and beta power per trial to behavioral data and save in csv file for further analysis in R\n",
    "tfr_trial.save_band_power_per_trial(study=2,\n",
    "                                    time_intervals={'pre': [(-0.2,0), (-0.3, -0.1)]},\n",
    "                                    channel_names=['CP4'],\n",
    "                                    mirror=True)"
   ]
  },
  {
   "cell_type": "markdown",
   "id": "16d8a728",
   "metadata": {},
   "source": [
    "4. Source reconstruction"
   ]
  },
  {
   "cell_type": "code",
   "execution_count": null,
   "id": "2d12e688",
   "metadata": {},
   "outputs": [],
   "source": [
    "# run source reconstruction for each condition\n",
    "source_reco.run_source_reco(study=2,\n",
    "                            cond=\"probability\",\n",
    "                            mirror=True,\n",
    "                            dics=True, fmin=15, fmax=25,\n",
    "                            tmin=-0.4, tmax=0,\n",
    "                            drop_bads=True,\n",
    "                            plot_alignment=False)"
   ]
  },
  {
   "cell_type": "code",
   "execution_count": null,
   "id": "7ecf4a32",
   "metadata": {},
   "outputs": [],
   "source": [
    "# plot source contrast (grand average over all participants)\n",
    "# opens plots in separate windows\n",
    "source_reco.plot_grand_average_source_contrast(study=2, cond='prev_resp', method='beamformer',\n",
    "                                               save_plots=False, backend='matplotlib')"
   ]
  },
  {
   "cell_type": "markdown",
   "id": "b0d45af0",
   "metadata": {},
   "source": [
    "### Intermediate summary\n",
    "Analysis of eeg data showed that in somatosensory regions, prestimulus beta power codes stimulus expectations in the volatile environment. For the stable environment prestimulus beta power codes the previous response. Source reconstruction shows the beta power source for stimulus probability in S2 and for previous responses in posterior cortex and ACC."
   ]
  }
 ],
 "metadata": {
  "kernelspec": {
   "display_name": "expecon_3.9",
   "language": "python",
   "name": "python3"
  },
  "language_info": {
   "codemirror_mode": {
    "name": "ipython",
    "version": 3
   },
   "file_extension": ".py",
   "mimetype": "text/x-python",
   "name": "python",
   "nbconvert_exporter": "python",
   "pygments_lexer": "ipython3",
   "version": "3.9.18"
  }
 },
 "nbformat": 4,
 "nbformat_minor": 5
}
