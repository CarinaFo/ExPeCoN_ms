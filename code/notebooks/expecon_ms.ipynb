{
 "cells": [
  {
   "cell_type": "markdown",
   "id": "41bea27a-d056-440b-b0ac-77393b47c418",
   "metadata": {},
   "source": [
    "# Exploration of `ExPeCoN`\n",
    "\n",
    "Running analyses and simulations of `ExPeCoN`\n",
    "\n",
    "___\n",
    "\n",
    "    Author:  Carina Forster et al.\n",
    "    Contact: forster@cbs.mpg.de\n",
    "    Years:   2023\n",
    "\n",
    "___"
   ]
  },
  {
   "cell_type": "markdown",
   "id": "150a1546-d4d0-4e6c-97f0-32c5f16ab141",
   "metadata": {},
   "source": [
    "## Setup "
   ]
  },
  {
   "cell_type": "code",
   "execution_count": 8,
   "id": "6dc9b0b0",
   "metadata": {},
   "outputs": [],
   "source": [
    "# Import my expecon_ms package and other modules\n",
    "from pathlib import Path\n",
    "\n",
    "import numpy as np\n",
    "from expecon_ms.configs import config, params, path_to\n",
    "\n",
    "# Import my expecon_ms package and other modules\n",
    "from expecon_ms.eeg.preprocessing import prepro as pp\n",
    "from expecon_ms.eeg.preprocessing import ica"
   ]
  },
  {
   "cell_type": "code",
   "execution_count": 9,
   "id": "2ceb2283",
   "metadata": {},
   "outputs": [],
   "source": [
    "# Set global vars & paths\n",
    "\n",
    "# raw concatenated eeg data\n",
    "save_dir_concatenated_raw1 = Path(path_to.data.eeg.RAW_expecon1)\n",
    "save_dir_concatenated_raw2 = Path(path_to.data.eeg.RAW_expecon2)\n",
    "save_dir_concatenated_raw1.mkdir(parents=True, exist_ok=True)\n",
    "save_dir_concatenated_raw2.mkdir(parents=True, exist_ok=True)\n",
    "\n",
    "# stimulus locked\n",
    "save_dir_stim_1 = Path(path_to.data.eeg.preprocessed.stimulus_expecon1)\n",
    "save_dir_stim_2 = Path(path_to.data.eeg.preprocessed.stimulus_expecon2)\n",
    "save_dir_stim_1.mkdir(parents=True, exist_ok=True)\n",
    "save_dir_stim_2.mkdir(parents=True, exist_ok=True)\n",
    "\n",
    "# cue locked\n",
    "save_dir_cue_1 = Path(path_to.data.eeg.preprocessed.cue_expecon1)\n",
    "save_dir_cue_2 = Path(path_to.data.eeg.preprocessed.cue_expecon2)\n",
    "save_dir_cue_1.mkdir(parents=True, exist_ok=True)\n",
    "save_dir_cue_2.mkdir(parents=True, exist_ok=True)\n",
    "\n",
    "# EEG cap layout file\n",
    "filename_montage = Path(path_to.data.templates)\n",
    "filename_montage.mkdir(parents=True, exist_ok=True)\n",
    "\n",
    "# raw behavioral data\n",
    "behav_path = Path(path_to.data.behavior)\n",
    "behav_path.mkdir(parents=True, exist_ok=True)\n",
    "\n",
    "# participant IDs\n",
    "id_list = config.participants.ID_list_expecon1\n",
    "id_list_expecon2 = config.participants.ID_list_expecon2\n",
    "\n",
    "# pilot data counter (for expecon 1, participant ID starts with ID007)\n",
    "pilot_counter = config.participants.pilot_counter"
   ]
  },
  {
   "cell_type": "markdown",
   "id": "74e1579d-4481-4ee5-9b9f-8ed9d5871cfa",
   "metadata": {},
   "source": [
    "## Analyse "
   ]
  },
  {
   "cell_type": "markdown",
   "id": "6d489515",
   "metadata": {},
   "source": [
    "Preprocess raw EEG data"
   ]
  },
  {
   "cell_type": "code",
   "execution_count": 10,
   "id": "2d686dec-24e9-4d4b-9820-853e883f319b",
   "metadata": {},
   "outputs": [
    {
     "ename": "NameError",
     "evalue": "name 'behav_path' is not defined",
     "output_type": "error",
     "traceback": [
      "\u001b[1;31m---------------------------------------------------------------------------\u001b[0m",
      "\u001b[1;31mNameError\u001b[0m                                 Traceback (most recent call last)",
      "Cell \u001b[1;32mIn[10], line 37\u001b[0m\n\u001b[0;32m     34\u001b[0m pilot_counter \u001b[38;5;241m=\u001b[39m config\u001b[38;5;241m.\u001b[39mparticipants\u001b[38;5;241m.\u001b[39mpilot_counter\n\u001b[0;32m     36\u001b[0m \u001b[38;5;66;03m# function expects a raw object with .fif file ending\u001b[39;00m\n\u001b[1;32m---> 37\u001b[0m \u001b[43mpp\u001b[49m\u001b[38;5;241;43m.\u001b[39;49m\u001b[43mprepro\u001b[49m\u001b[43m(\u001b[49m\u001b[43mstudy\u001b[49m\u001b[38;5;241;43m=\u001b[39;49m\u001b[38;5;241;43m1\u001b[39;49m\u001b[43m,\u001b[49m\u001b[43m \u001b[49m\u001b[43mtrigger\u001b[49m\u001b[38;5;241;43m=\u001b[39;49m\u001b[38;5;124;43m'\u001b[39;49m\u001b[38;5;124;43mstimulus\u001b[39;49m\u001b[38;5;124;43m'\u001b[39;49m\u001b[43m,\u001b[49m\u001b[43m \u001b[49m\u001b[43ml_freq\u001b[49m\u001b[38;5;241;43m=\u001b[39;49m\u001b[38;5;241;43m1\u001b[39;49m\u001b[43m,\u001b[49m\u001b[43m \u001b[49m\u001b[43mh_freq\u001b[49m\u001b[38;5;241;43m=\u001b[39;49m\u001b[38;5;241;43m40\u001b[39;49m\u001b[43m,\u001b[49m\u001b[43m \u001b[49m\u001b[43mtmin\u001b[49m\u001b[38;5;241;43m=\u001b[39;49m\u001b[38;5;241;43m-\u001b[39;49m\u001b[38;5;241;43m1\u001b[39;49m\u001b[43m,\u001b[49m\n\u001b[0;32m     38\u001b[0m \u001b[43m        \u001b[49m\u001b[43mtmax\u001b[49m\u001b[38;5;241;43m=\u001b[39;49m\u001b[38;5;241;43m1\u001b[39;49m\u001b[43m,\u001b[49m\u001b[43m \u001b[49m\u001b[43mresample_rate\u001b[49m\u001b[38;5;241;43m=\u001b[39;49m\u001b[38;5;241;43m250\u001b[39;49m\u001b[43m,\u001b[49m\n\u001b[0;32m     39\u001b[0m \u001b[43m        \u001b[49m\u001b[43msf\u001b[49m\u001b[38;5;241;43m=\u001b[39;49m\u001b[38;5;241;43m2500\u001b[39;49m\u001b[43m,\u001b[49m\u001b[43m \u001b[49m\u001b[43mdetrend\u001b[49m\u001b[38;5;241;43m=\u001b[39;49m\u001b[38;5;241;43m1\u001b[39;49m\u001b[43m,\u001b[49m\u001b[43m \u001b[49m\u001b[43mransac\u001b[49m\u001b[38;5;241;43m=\u001b[39;49m\u001b[38;5;241;43m1\u001b[39;49m\u001b[43m,\u001b[49m\u001b[43m \u001b[49m\u001b[43mautoreject\u001b[49m\u001b[38;5;241;43m=\u001b[39;49m\u001b[38;5;241;43m0\u001b[39;49m\u001b[43m)\u001b[49m\n\u001b[0;32m     41\u001b[0m \u001b[38;5;66;03m# how many channels were interpolated?\u001b[39;00m\n\u001b[0;32m     42\u001b[0m pp\u001b[38;5;241m.\u001b[39mn_channels_interpolated(study\u001b[38;5;241m=\u001b[39m\u001b[38;5;241m1\u001b[39m, trigger\u001b[38;5;241m=\u001b[39m\u001b[38;5;124m'\u001b[39m\u001b[38;5;124mstimulus\u001b[39m\u001b[38;5;124m'\u001b[39m, l_freq\u001b[38;5;241m=\u001b[39m\u001b[38;5;241m0.1\u001b[39m)\n",
      "File \u001b[1;32mE:\\expecon_ms\\code\\expecon_ms\\eeg\\preprocessing\\prepro.py:99\u001b[0m, in \u001b[0;36mprepro\u001b[1;34m(study, trigger, l_freq, h_freq, tmin, tmax, resample_rate, sf, detrend, ransac, autoreject)\u001b[0m\n\u001b[0;32m     53\u001b[0m \u001b[38;5;250m\u001b[39m\u001b[38;5;124;03m\"\"\"\u001b[39;00m\n\u001b[0;32m     54\u001b[0m \u001b[38;5;124;03mPreprocess EEG data using the MNE toolbox.\u001b[39;00m\n\u001b[0;32m     55\u001b[0m \n\u001b[1;32m   (...)\u001b[0m\n\u001b[0;32m     94\u001b[0m \u001b[38;5;124;03m    List with the annotations (trigger) information.\u001b[39;00m\n\u001b[0;32m     95\u001b[0m \u001b[38;5;124;03m\"\"\"\u001b[39;00m\n\u001b[0;32m     96\u001b[0m \u001b[38;5;28;01mif\u001b[39;00m study \u001b[38;5;241m==\u001b[39m \u001b[38;5;241m1\u001b[39m:\n\u001b[0;32m     97\u001b[0m     \u001b[38;5;66;03m# load the cleaned behavioral data for EEG preprocessing (kicked out trials with\u001b[39;00m\n\u001b[0;32m     98\u001b[0m     \u001b[38;5;66;03m# no matching trigger in the EEG recording)\u001b[39;00m\n\u001b[1;32m---> 99\u001b[0m     df_cleaned \u001b[38;5;241m=\u001b[39m pd\u001b[38;5;241m.\u001b[39mread_csv(\u001b[43mbehav_path\u001b[49m \u001b[38;5;241m/\u001b[39m \u001b[38;5;124m\"\u001b[39m\u001b[38;5;124mbehav_cleaned_for_eeg_expecon1.csv\u001b[39m\u001b[38;5;124m\"\u001b[39m)\n\u001b[0;32m    100\u001b[0m \u001b[38;5;28;01melse\u001b[39;00m:\n\u001b[0;32m    101\u001b[0m     df_cleaned \u001b[38;5;241m=\u001b[39m pd\u001b[38;5;241m.\u001b[39mread_csv(behav_path \u001b[38;5;241m/\u001b[39m \u001b[38;5;124m\"\u001b[39m\u001b[38;5;124mbehav_cleaned_for_eeg_expecon2.csv\u001b[39m\u001b[38;5;124m\"\u001b[39m)\n",
      "\u001b[1;31mNameError\u001b[0m: name 'behav_path' is not defined"
     ]
    }
   ],
   "source": [
    "# function expects a raw object with .fif file ending\n",
    "pp.prepro(study=1, trigger='stimulus', l_freq=1, h_freq=40, tmin=-1,\n",
    "        tmax=1, resample_rate=250,\n",
    "        sf=2500, detrend=1, ransac=1, autoreject=0)\n",
    "\n",
    "# how many channels were interpolated?\n",
    "pp.n_channels_interpolated(study=1, trigger='stimulus', l_freq=0.1)"
   ]
  },
  {
   "cell_type": "markdown",
   "id": "e53db1f3",
   "metadata": {},
   "source": [
    "run ICA on cleaned epochs"
   ]
  },
  {
   "cell_type": "code",
   "execution_count": 5,
   "id": "163e88d5",
   "metadata": {},
   "outputs": [
    {
     "ename": "NameError",
     "evalue": "name 'id_list' is not defined",
     "output_type": "error",
     "traceback": [
      "\u001b[1;31m---------------------------------------------------------------------------\u001b[0m",
      "\u001b[1;31mNameError\u001b[0m                                 Traceback (most recent call last)",
      "Cell \u001b[1;32mIn[5], line 1\u001b[0m\n\u001b[1;32m----> 1\u001b[0m \u001b[43mica\u001b[49m\u001b[38;5;241;43m.\u001b[39;49m\u001b[43mrun_ica\u001b[49m\u001b[43m(\u001b[49m\u001b[43mstudy\u001b[49m\u001b[38;5;241;43m=\u001b[39;49m\u001b[38;5;241;43m1\u001b[39;49m\u001b[43m,\u001b[49m\u001b[43m \u001b[49m\u001b[43minfomax\u001b[49m\u001b[38;5;241;43m=\u001b[39;49m\u001b[38;5;241;43m1\u001b[39;49m\u001b[43m,\u001b[49m\u001b[43m \u001b[49m\u001b[43msave_psd\u001b[49m\u001b[38;5;241;43m=\u001b[39;49m\u001b[38;5;241;43m1\u001b[39;49m\u001b[43m)\u001b[49m\n\u001b[0;32m      2\u001b[0m \u001b[38;5;66;03m# correlate with EOG and ECG\u001b[39;00m\n\u001b[0;32m      3\u001b[0m ica\u001b[38;5;241m.\u001b[39mlabel_ica_correlation(study\u001b[38;5;241m=\u001b[39m\u001b[38;5;241m1\u001b[39m)\n",
      "File \u001b[1;32mE:\\expecon_ms\\code\\expecon_ms\\eeg\\preprocessing\\ica.py:92\u001b[0m, in \u001b[0;36mrun_ica\u001b[1;34m(study, infomax, save_psd)\u001b[0m\n\u001b[0;32m     78\u001b[0m \u001b[38;5;28;01mdef\u001b[39;00m \u001b[38;5;21mrun_ica\u001b[39m(study: \u001b[38;5;28mint\u001b[39m, infomax: \u001b[38;5;28mint\u001b[39m, save_psd: \u001b[38;5;28mint\u001b[39m):\n\u001b[0;32m     79\u001b[0m \u001b[38;5;250m    \u001b[39m\u001b[38;5;124;03m\"\"\"\u001b[39;00m\n\u001b[0;32m     80\u001b[0m \u001b[38;5;124;03m    Run ICA on epoched data and save the ICA solution.\u001b[39;00m\n\u001b[0;32m     81\u001b[0m \n\u001b[1;32m   (...)\u001b[0m\n\u001b[0;32m     90\u001b[0m \u001b[38;5;124;03m        None\u001b[39;00m\n\u001b[0;32m     91\u001b[0m \u001b[38;5;124;03m    \"\"\"\u001b[39;00m\n\u001b[1;32m---> 92\u001b[0m     \u001b[38;5;28;01mfor\u001b[39;00m subj \u001b[38;5;129;01min\u001b[39;00m \u001b[43mid_list\u001b[49m:\n\u001b[0;32m     94\u001b[0m         file_path \u001b[38;5;241m=\u001b[39m save_dir_ica_sol1 \u001b[38;5;241m/\u001b[39m \u001b[38;5;124mf\u001b[39m\u001b[38;5;124m\"\u001b[39m\u001b[38;5;124micas_\u001b[39m\u001b[38;5;132;01m{\u001b[39;00msubj\u001b[38;5;132;01m}\u001b[39;00m\u001b[38;5;124m.pkl\u001b[39m\u001b[38;5;124m\"\u001b[39m \u001b[38;5;28;01mif\u001b[39;00m study \u001b[38;5;241m==\u001b[39m \u001b[38;5;241m1\u001b[39m \u001b[38;5;28;01melse\u001b[39;00m save_dir_ica_sol2 \u001b[38;5;241m/\u001b[39m \u001b[38;5;124mf\u001b[39m\u001b[38;5;124m\"\u001b[39m\u001b[38;5;124micas_\u001b[39m\u001b[38;5;132;01m{\u001b[39;00msubj\u001b[38;5;132;01m}\u001b[39;00m\u001b[38;5;124m.pkl\u001b[39m\u001b[38;5;124m\"\u001b[39m\n\u001b[0;32m     96\u001b[0m         \u001b[38;5;28;01mif\u001b[39;00m \u001b[38;5;129;01mnot\u001b[39;00m Path(file_path)\u001b[38;5;241m.\u001b[39mexists():\n",
      "\u001b[1;31mNameError\u001b[0m: name 'id_list' is not defined"
     ]
    }
   ],
   "source": [
    "ica.run_ica(study=1, infomax=1, save_psd=1)\n",
    "# correlate with EOG and ECG\n",
    "ica.label_ica_correlation(study=1)\n",
    "# usa icalabel to mark components for rejection\n",
    "#ica.label_iclabel(study=1)"
   ]
  },
  {
   "cell_type": "markdown",
   "id": "b0d45af0",
   "metadata": {},
   "source": [
    "### Intermediate summary\n",
    "This is a intermediate summary of the analysis.\n",
    "We find this and that ..."
   ]
  }
 ],
 "metadata": {
  "kernelspec": {
   "display_name": "expecon_3.9",
   "language": "python",
   "name": "python3"
  },
  "language_info": {
   "codemirror_mode": {
    "name": "ipython",
    "version": 3
   },
   "file_extension": ".py",
   "mimetype": "text/x-python",
   "name": "python",
   "nbconvert_exporter": "python",
   "pygments_lexer": "ipython3",
   "version": "3.9.18"
  }
 },
 "nbformat": 4,
 "nbformat_minor": 5
}
