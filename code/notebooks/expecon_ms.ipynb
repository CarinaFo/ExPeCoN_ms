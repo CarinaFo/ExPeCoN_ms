{
 "cells": [
  {
   "cell_type": "markdown",
   "id": "41bea27a-d056-440b-b0ac-77393b47c418",
   "metadata": {},
   "source": [
    "# python code for results from Forster et al., 2025\n",
    "\n",
    "Title: \"Pre-stimulus beta power encodes explicit and implicit perceptual biases in distinct cortical areas\"\n",
    "\n",
    "notebook loads functions for behavioral and EEG analysis and reproduces figure 1,2,3 and 4\n",
    "\n",
    "figure 5 and 6 are based on Rscripts, which are used for regression and mediation analysis\n",
    "\n",
    "results are published in Forster et al., 2025\n",
    "___\n",
    "\n",
    "    Author:  Carina Forster et al.\n",
    "    Contact: forster@cbs.mpg.de\n",
    "    Years:   2024\n",
    "\n",
    "___"
   ]
  },
  {
   "cell_type": "markdown",
   "id": "64fbe856",
   "metadata": {
    "jp-MarkdownHeadingCollapsed": true
   },
   "source": [
    "Make sure you are in the right environment: `expecon_3.9`"
   ]
  },
  {
   "cell_type": "markdown",
   "id": "150a1546-d4d0-4e6c-97f0-32c5f16ab141",
   "metadata": {},
   "source": [
    "## Setup "
   ]
  },
  {
   "cell_type": "markdown",
   "id": "f6819468-c507-4884-8d73-cf4c4aa7f99e",
   "metadata": {},
   "source": [
    "### Imports"
   ]
  },
  {
   "cell_type": "code",
   "execution_count": null,
   "id": "15af94e1",
   "metadata": {},
   "outputs": [],
   "source": [
    "# turn off warnings for a cleaner output\n",
    "import warnings\n",
    "\n",
    "warnings.filterwarnings(\"ignore\")"
   ]
  },
  {
   "cell_type": "code",
   "execution_count": null,
   "id": "b7906a86",
   "metadata": {},
   "outputs": [],
   "source": [
    "%matplotlib inline"
   ]
  },
  {
   "cell_type": "code",
   "execution_count": null,
   "id": "f6704887",
   "metadata": {},
   "outputs": [],
   "source": [
    "%load_ext autoreload\n",
    "%autoreload 2"
   ]
  },
  {
   "cell_type": "code",
   "execution_count": null,
   "id": "6dc9b0b0",
   "metadata": {},
   "outputs": [],
   "source": [
    "# import packages\n",
    "from pathlib import Path\n",
    "\n",
    "import matplotlib.pyplot as plt\n",
    "import mne\n",
    "import pandas as pd\n",
    "\n",
    "# import functions for behavioral analysis\n",
    "from expecon_ms.behav import figure1 as behav\n",
    "\n",
    "# expecon_ms functions\n",
    "from expecon_ms.configs import config, params, paths\n",
    "from expecon_ms.eeg.preprocessing import ica\n",
    "\n",
    "# Import functions from expecon_package for preproccesing eeg data\n",
    "from expecon_ms.eeg.preprocessing import prepro as pp\n",
    "\n",
    "# import functions for EEG analysis and visualization\n",
    "from expecon_ms.eeg.sensor import evokeds as evo\n",
    "from expecon_ms.eeg.sensor import tfr_contrasts as tfr\n",
    "\n",
    "# import functions for source analysis\n",
    "#from expecon_ms.eeg.source import source_reco\n",
    "from scipy.stats import wilcoxon"
   ]
  },
  {
   "cell_type": "markdown",
   "id": "b2e868dd-0b21-45dc-83e7-88d075caff73",
   "metadata": {},
   "source": [
    "### Set vars, paths, & constants"
   ]
  },
  {
   "cell_type": "code",
   "execution_count": null,
   "id": "8807c481",
   "metadata": {},
   "outputs": [],
   "source": [
    "# Define the output for mne functions\n",
    "mne.set_log_level(\"CRITICAL\")"
   ]
  },
  {
   "cell_type": "markdown",
   "id": "74e1579d-4481-4ee5-9b9f-8ed9d5871cfa",
   "metadata": {},
   "source": [
    "## Analyse "
   ]
  },
  {
   "cell_type": "markdown",
   "id": "786a2789",
   "metadata": {},
   "source": [
    "### 1. Behavioral data analysis (Signal detection theory based)"
   ]
  },
  {
   "cell_type": "code",
   "execution_count": null,
   "id": "b310c323",
   "metadata": {},
   "outputs": [],
   "source": [
    "# check the function arguments the docs\n",
    "help(behav.plot_figure1_grid)"
   ]
  },
  {
   "cell_type": "code",
   "execution_count": null,
   "id": "48fccbef",
   "metadata": {},
   "outputs": [],
   "source": [
    "behav.plot_figure1_grid(expecon=1, exclude_high_fa=True)"
   ]
  },
  {
   "cell_type": "markdown",
   "id": "71dec5cc",
   "metadata": {},
   "source": [
    "### 2. Preprocessing EEG data"
   ]
  },
  {
   "cell_type": "code",
   "execution_count": null,
   "id": "2d686dec-24e9-4d4b-9820-853e883f319b",
   "metadata": {},
   "outputs": [],
   "source": [
    "# function expects a raw object with .fif file ending\n",
    "pp.prepro(\n",
    "    study=2,\n",
    "    trigger=\"stimulus\",\n",
    "    l_freq=1,\n",
    "    h_freq=40,\n",
    "    tmin=-1,\n",
    "    tmax=1,\n",
    "    resample_rate=250,\n",
    "    sf=2500,\n",
    "    detrend=1,\n",
    "    ransac=1,\n",
    "    autoreject=0,\n",
    ")\n",
    "\n",
    "# how many channels were interpolated?\n",
    "pp.n_channels_interpolated(study=2, trigger=\"stimulus\", l_freq=0.1)\n",
    "\n",
    "# run ica on clean, epoched data\n",
    "ica.run_ica(study=2, infomax=1, save_psd=1)\n",
    "# correlate with EOG and ECG and mark bad componets for rejection\n",
    "\n",
    "ica.label_ica_correlation(study=2)\n",
    "\n",
    "# usa icalabel to mark components for rejection\n",
    "# ica.label_iclabel(study=1)"
   ]
  },
  {
   "cell_type": "markdown",
   "id": "75804a8a",
   "metadata": {},
   "source": [
    "#### ICA stats"
   ]
  },
  {
   "cell_type": "code",
   "execution_count": null,
   "id": "53a0f28c",
   "metadata": {},
   "outputs": [],
   "source": [
    "# which study to run the analysis on\n",
    "study = 2"
   ]
  },
  {
   "cell_type": "code",
   "execution_count": null,
   "id": "ff5b7f3a",
   "metadata": {},
   "outputs": [],
   "source": [
    "# load the csv file that contains the number of components rejected\n",
    "df_comp = pd.read_csv(\n",
    "    Path(\"E:/expecon_ms/data/eeg/prepro_ica/clean_epochs_corr{study!s}/ica_components_stats_icacorr.csv\")\n",
    ")\n",
    "\n",
    "# mean components rejected\n",
    "print(f' on average {df_comp[\"0\"].mean()} components were rejected')\n",
    "print(f' the sdt of components rejected is {df_comp[\"0\"].std()}')\n",
    "print(f' the maximum of components rejected is {df_comp[\"0\"].max()}')\n",
    "print(f' the minimum of components rejected is {df_comp[\"0\"].min()}')"
   ]
  },
  {
   "cell_type": "markdown",
   "id": "12612fd5",
   "metadata": {},
   "source": [
    "### 3. Evoked potentials"
   ]
  },
  {
   "cell_type": "code",
   "execution_count": null,
   "id": "766f3db9",
   "metadata": {},
   "outputs": [],
   "source": [
    "# compare evokeds and plot contrasts\n",
    "evokeds = evo.create_contrast(\n",
    "    study=2, drop_bads=True, laplace=False, subtract_evoked=False, save_data_to_disk=False, save_drop_log=False\n",
    ")"
   ]
  },
  {
   "cell_type": "code",
   "execution_count": null,
   "id": "a26895e6",
   "metadata": {},
   "outputs": [],
   "source": [
    "# plot evoked contrast and topography for the contrast\n",
    "evo.plot_roi(study=2, data=evokeds, tmin=-0.9, tmax=0, tmin_base=-0.1, tmax_base=0)"
   ]
  },
  {
   "cell_type": "markdown",
   "id": "50ff70bf",
   "metadata": {},
   "source": [
    "### 4. Time-frequency analysis"
   ]
  },
  {
   "cell_type": "code",
   "execution_count": null,
   "id": "7469c914",
   "metadata": {},
   "outputs": [],
   "source": [
    "# compute tfr representations for each condition\n",
    "tfr.compute_tfr(\n",
    "    study=2,\n",
    "    cond=\"probability\",\n",
    "    tmin=-0.7,\n",
    "    tmax=0,\n",
    "    fmax=35,\n",
    "    fmin=3,\n",
    "    laplace=False,\n",
    "    induced=True,\n",
    "    mirror=False,\n",
    "    drop_bads=True,\n",
    ")"
   ]
  },
  {
   "cell_type": "markdown",
   "id": "2356801e",
   "metadata": {},
   "source": [
    "#### stimulus probability contrast"
   ]
  },
  {
   "cell_type": "code",
   "execution_count": null,
   "id": "6abca9ab",
   "metadata": {},
   "outputs": [],
   "source": [
    "# load the tfr data for each condition for probability conds.\n",
    "tfr_a_cond, tfr_b_cond = tfr.load_tfr_conds(\n",
    "    studies=[1, 2],\n",
    "    cond=\"probability\",\n",
    "    cond_a_name=\"high_-0.7_0_induced\",\n",
    "    cond_b_name=\"low_-0.7_0_induced\",\n",
    "    cond_a_names=[\"high_prevhit_-0.7_0_induced\", \"high_prevmiss_-0.7_0_induced\", \"high_prevcr_-0.7_0_induced\"],\n",
    "    cond_b_names=[\"low_prevhit_-0.7_0_induced\", \"low_prevmiss_-0.7_0_induced\", \"low_prevcr_-0.7_0_induced\"],\n",
    ")"
   ]
  },
  {
   "cell_type": "code",
   "execution_count": null,
   "id": "010e075c",
   "metadata": {},
   "outputs": [],
   "source": [
    "# run-cluster-based permutation tests for the conditions contrast\n",
    "# and plot sign. cluster\n",
    "tfr.plot_tfr_cluster_test_output(\n",
    "    cond=\"probability\",\n",
    "    tfr_a_cond=tfr_a_cond,\n",
    "    tfr_b_cond=tfr_b_cond,\n",
    "    threed_test=False,\n",
    "    cond_a_name=\"high_induced\",\n",
    "    cond_b_name=\"low_induced\",\n",
    "    channel_names=[\"CP4\"],\n",
    ")"
   ]
  },
  {
   "cell_type": "markdown",
   "id": "e3dddc43",
   "metadata": {},
   "source": [
    "previous response contrast"
   ]
  },
  {
   "cell_type": "code",
   "execution_count": null,
   "id": "6506ee98",
   "metadata": {},
   "outputs": [],
   "source": [
    "# load the tfr data for each condition for prev_resp conds.\n",
    "tfr_a_cond, tfr_b_cond = tfr.load_tfr_conds(\n",
    "    studies=[1, 2],\n",
    "    cond=\"prev_resp\",\n",
    "    cond_a_name=\"prevyesresp_highprob_prevstim_-0.7_0_induced\",\n",
    "    cond_b_name=\"prevnoresp_highprob_prevstim_-0.7_0_induced\",\n",
    "    cond_a_names=[\"prevyesresp_samecue_lowprob_-0.7_0_induced\", \"prevyesresp_samecue_highprob_-0.7_0_induced\"],\n",
    "    cond_b_names=[\"prevnoresp_samecue_lowprob_-0.7_0_induced\", \"prevnoresp_samecue_highprob_-0.7_0_induced\"],\n",
    ")"
   ]
  },
  {
   "cell_type": "code",
   "execution_count": null,
   "id": "a0fbef59",
   "metadata": {},
   "outputs": [],
   "source": [
    "# run cluster based permutation tests for the conditions contrasts\n",
    "# and plot sign. cluster\n",
    "tfr.plot_tfr_cluster_test_output(\n",
    "    cond=\"prev_resp\",\n",
    "    tfr_a_cond=tfr_a_cond,\n",
    "    tfr_b_cond=tfr_b_cond,\n",
    "    threed_test=False,\n",
    "    cond_a_name=\"prevyesresp\",\n",
    "    cond_b_name=\"prevnoresp\",\n",
    "    channel_names=[\"CP4\"],\n",
    ")"
   ]
  },
  {
   "cell_type": "markdown",
   "id": "16d8a728",
   "metadata": {},
   "source": [
    "### 5. Source reconstruction"
   ]
  },
  {
   "cell_type": "code",
   "execution_count": null,
   "id": "2d12e688",
   "metadata": {},
   "outputs": [],
   "source": [
    "# run source reconstruction for each condition\n",
    "source_reco.run_source_reco(\n",
    "    study=1,\n",
    "    cond=\"prev_resp\",\n",
    "    mirror=False,\n",
    "    dics=True,\n",
    "    fmin=15,\n",
    "    fmax=25,\n",
    "    tmin=-0.7,\n",
    "    tmax=-0.1,\n",
    "    drop_bads=True,\n",
    "    subtract_evokeds=True,\n",
    "    plot_alignment=False,\n",
    ")"
   ]
  },
  {
   "cell_type": "code",
   "execution_count": null,
   "id": "7ecf4a32",
   "metadata": {},
   "outputs": [],
   "source": [
    "# plot source contrast (grand average over all participants)\n",
    "# opens plots in separate windows\n",
    "source_reco.plot_grand_average_source_contrast(study=1, cond=\"probability\", method=\"beamformer\", save_plots=False)"
   ]
  },
  {
   "cell_type": "code",
   "execution_count": null,
   "id": "5eaefaa8",
   "metadata": {},
   "outputs": [],
   "source": [
    "# run source localization for each epoch based on filter from contrast"
   ]
  },
  {
   "cell_type": "code",
   "execution_count": null,
   "id": "1bf35dc7",
   "metadata": {},
   "outputs": [],
   "source": [
    "source_reco.run_source_reco_per_trial(study=2, fmin=15, fmax=25, tmin=-0.7, tmax=-0.1, drop_bads=True)"
   ]
  }
 ],
 "metadata": {
  "kernelspec": {
   "display_name": "expecon_3.9",
   "language": "python",
   "name": "python3"
  },
  "language_info": {
   "codemirror_mode": {
    "name": "ipython",
    "version": 3
   },
   "file_extension": ".py",
   "mimetype": "text/x-python",
   "name": "python",
   "nbconvert_exporter": "python",
   "pygments_lexer": "ipython3",
   "version": "3.9.18"
  }
 },
 "nbformat": 4,
 "nbformat_minor": 5
}
